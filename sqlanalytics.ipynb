
import os
import base64
from openai import AzureOpenAI

endpoint = os.getenv("ENDPOINT_URL", "https://aifoundryhub6695863479.openai.azure.com/")
deployment = os.getenv("DEPLOYMENT_NAME", "gpt-4o-mini")
search_endpoint = os.getenv("SEARCH_ENDPOINT", "https://aisearch1711.search.windows.net/")
search_key = os.getenv("SEARCH_KEY", "")
subscription_key = os.getenv("AZURE_OPENAI_API_KEY", "E1J2lTRk4SjeYzGi9CKTxyMS5ISXXDK1iL9BrOK9RXb1DvJAUR4xJQQJ99BEACHYHv6XJ3w3AAAAACOGpWl6")

# Initialize Azure OpenAI client with key-based authentication
client = AzureOpenAI(
    azure_endpoint=endpoint,
    api_key=subscription_key,
    api_version="2025-01-01-preview",
)

# IMAGE_PATH = "YOUR_IMAGE_PATH"
# encoded_image = base64.b64encode(open(IMAGE_PATH, 'rb').read()).decode('ascii')

#Prepare the chat prompt
chat_prompt = [
    {
            "role": "system",
            "content": "You are an AI assistant specialized in transforming natural language into SQL queries. The dataset includes embedding vectors representing predefined query patterns. Use these embeddings to adapt the generated SQL queries, aligning them with patterns found in the embedding dataset attached to the query. Return only the SQL output without explanations or comments"
        },
        {
            "role": "user",
            "content": "daily rides in 2024"
        }
]

# Include speech result if speech is enabled
messages = chat_prompt

# Generate the completion
completion = client.chat.completions.create(
    model=deployment,
    messages=messages,
    max_tokens=800,
    temperature=0.7,
    top_p=0.95,
    frequency_penalty=0,
    presence_penalty=0,
    stop=None,
    stream=False,
    extra_body={
      "data_sources": [{
          "type": "azure_search",
          "parameters": {
            "filter": None,
            "endpoint": f"{search_endpoint}",
            "index_name": "goofy-jackal-z365036nxq",
            "semantic_configuration": "azureml-default",
            "authentication": {
              "type": "api_key",
              "key": f"{search_key}"
            },
            "query_type": "simple",
            "in_scope": True,            
            "strictness": 3,
            "top_n_documents": 5
          }
        }]
    }
)

print(completion.to_json())
    
