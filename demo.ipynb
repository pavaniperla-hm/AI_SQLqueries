import ipywidgets as widgets
from IPython.display import display, clear_output

# Text input widget
text_input = widgets.Textarea(
    placeholder='Ask your question here...',
    layout=widgets.Layout(width='80%', height='50px')
)

# def call_llm(text):
#     print(f"I am text! Here's the input:\n{text}")
        
# Callback function to handle button click
def button_callback(b):
    with output:
        clear_output()  # Clear previous output
        text = text_input.value
        #print(f"I am clicked! Here's the input:\n{text}")
        call_llm(text)
        
        
# Button to trigger the action
button = widgets.Button(description='Search')

# Output widget to show results
output = widgets.Output()

# Attach the function to the button click event
button.on_click(button_callback)

# Display the widgets
display(text_input, button, output)
